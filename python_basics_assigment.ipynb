{
  "nbformat": 4,
  "nbformat_minor": 0,
  "metadata": {
    "colab": {
      "provenance": [],
      "authorship_tag": "ABX9TyNjoeIJd/0zOlTsAQX25eZb",
      "include_colab_link": true
    },
    "kernelspec": {
      "name": "python3",
      "display_name": "Python 3"
    },
    "language_info": {
      "name": "python"
    }
  },
  "cells": [
    {
      "cell_type": "markdown",
      "metadata": {
        "id": "view-in-github",
        "colab_type": "text"
      },
      "source": [
        "<a href=\"https://colab.research.google.com/github/Pankajbisht2005/python-basics/blob/main/python_basics_assigment.ipynb\" target=\"_parent\"><img src=\"https://colab.research.google.com/assets/colab-badge.svg\" alt=\"Open In Colab\"/></a>"
      ]
    },
    {
      "cell_type": "markdown",
      "source": [
        "**Python Basics Questions**\n",
        "\n",
        "\n"
      ],
      "metadata": {
        "id": "RWDugQj6OzyK"
      }
    },
    {
      "cell_type": "markdown",
      "source": [
        "1. What is Python, and why is it popular ?\n",
        "\n",
        "  - Python is an interpreted, object-oriented, high-level programming language with dynamic semantics. It emphasizes code readability through its clean syntax and significant indentation."
      ],
      "metadata": {
        "id": "JdCV18SwPFJ6"
      }
    },
    {
      "cell_type": "markdown",
      "source": [
        "2. What is an interpreter in Python ?\n",
        "\n",
        " - An interpreter in Python is the program that reads and executes Python code line by line, translating it into machine-understandable instructions at runtime."
      ],
      "metadata": {
        "id": "JNhCM5pkQpWu"
      }
    },
    {
      "cell_type": "markdown",
      "source": [
        "3. What are pre-defined keywords in Python ?\n",
        "\n",
        "  - In Python, predefined keywords are special reserved words that have specific meanings and purposes in the language. You cannot use them as variable names, function names, or identifiers, because they’re part of Python’s core syntax.\n",
        "  \n",
        "  Examle:Boolean & Null Value, control flow etc,"
      ],
      "metadata": {
        "id": "kWRGFrPeRsli"
      }
    },
    {
      "cell_type": "markdown",
      "source": [
        "4. Can keywords be used as variable names ?\n",
        "\n",
        " - No, Varaible can not be used as variable name."
      ],
      "metadata": {
        "id": "p6mzxzdSS3ub"
      }
    },
    {
      "cell_type": "markdown",
      "source": [
        "5. What is mutability in Python ?\n",
        "  - Mutability refers to change in the value after it's created."
      ],
      "metadata": {
        "id": "ClFQv6F4TQr6"
      }
    },
    {
      "cell_type": "markdown",
      "source": [
        "6. Why are lists mutable, but tuples are immutable ?\n",
        "-  Lists are meant for dynamic collections of items where the size and content may change during program execution.\n",
        "  Tuples are designed to be fixed collections of items."
      ],
      "metadata": {
        "id": "2w2j0jE8UMZa"
      }
    },
    {
      "cell_type": "markdown",
      "source": [
        "7. What is the difference between “==” and “is” operators in Python ?\n",
        " -    '==' Checks if the values of two objects are equal.\n",
        "'is' Checks if two variables refer to the same object in memory .\n"
      ],
      "metadata": {
        "id": "u_ySPCjGVOcy"
      }
    },
    {
      "cell_type": "markdown",
      "source": [
        "8. What are logical operators in Python ?\n",
        "- Logical operators in Python are used to combine or manipulate Boolean values. These operators are essential when you're working with conditions, especially in if, while, or assert statements.\n"
      ],
      "metadata": {
        "id": "19xZN_5lXlis"
      }
    },
    {
      "cell_type": "markdown",
      "source": [
        "9. What is type casting in Python ?\n",
        "- Type casting in Python is the process of converting a value from one data type to another.\n",
        "Example:int(), float()\n"
      ],
      "metadata": {
        "id": "xmLqUCCOYRmt"
      }
    },
    {
      "cell_type": "markdown",
      "source": [
        "10. What is the difference between implicit and explicit type casting ?\n",
        "- Impicit type casting Python automatically converts one data type to another during runtime when it's safe and logical to do so.\n",
        "- Explicit type casting  programming, manually convert a value from one type to another using built-in functions like int(), float(), str(), etc.\n",
        "\n"
      ],
      "metadata": {
        "id": "eE5gF4ONZEmg"
      }
    },
    {
      "cell_type": "markdown",
      "source": [
        "11. What is the purpose of conditional statements in Python ?\n",
        "- Conditional statements in Python are used to control the flow of the program. They allow the code to make decisions and behave differently depending on specific conditions.\n"
      ],
      "metadata": {
        "id": "yx1SxpFqaK7S"
      }
    },
    {
      "cell_type": "markdown",
      "source": [
        "12. How does the elif statement work ?\n",
        "-   It allows to check multiple conditions in sequence. It’s used when we want to test more than two possibilities.\n"
      ],
      "metadata": {
        "id": "I1fV6A3PakUw"
      }
    },
    {
      "cell_type": "markdown",
      "source": [
        "13. What is the difference between for and while loops ?\n",
        "- for loop is use when we know how many times we want to repeat something, or when you're looping over a sequence like a list, string, or range.\n",
        "- while loop when we want to repeat something until a condition becomes false—especially when you don’t know how many times it’ll run.\n",
        "\n"
      ],
      "metadata": {
        "id": "NErFED-Ka_J2"
      }
    },
    {
      "cell_type": "markdown",
      "source": [
        "14. Describe a scenario where a while loop is more suitable than a for loop?\n",
        "- A while loop is more suitable when the number of iterations is not known in advance and depends on a condition.\n",
        "- Example: Asking a user to enter the correct password. We don’t know how many attempts the user will take, so a while loop is better."
      ],
      "metadata": {
        "id": "nM5KzZBhcDQc"
      }
    },
    {
      "cell_type": "markdown",
      "source": [
        "**Practical Questions**"
      ],
      "metadata": {
        "id": "PDLE9ZpxdXPu"
      }
    },
    {
      "cell_type": "code",
      "source": [
        "#1 Write a Python program to print \"Hello, World!\n",
        "print('Hello, World!')"
      ],
      "metadata": {
        "colab": {
          "base_uri": "https://localhost:8080/"
        },
        "id": "kPWonMj5cCY7",
        "outputId": "fb037230-f78a-4844-9e9a-5be76c0fede0"
      },
      "execution_count": null,
      "outputs": [
        {
          "output_type": "stream",
          "name": "stdout",
          "text": [
            "Hello, World!\n"
          ]
        }
      ]
    },
    {
      "cell_type": "code",
      "source": [
        "#2 Write a Python program that displays your name and age.\n",
        "name = 'pankaj'\n",
        "age = 20\n",
        "print('name is', name)\n",
        "print('age is', age)"
      ],
      "metadata": {
        "colab": {
          "base_uri": "https://localhost:8080/"
        },
        "id": "bzuVoN8xaJ9X",
        "outputId": "4a6497c4-c2dc-4ed8-e07a-6d085bd50887"
      },
      "execution_count": null,
      "outputs": [
        {
          "output_type": "stream",
          "name": "stdout",
          "text": [
            "name is pankaj\n",
            "age is 20\n"
          ]
        }
      ]
    },
    {
      "cell_type": "code",
      "source": [
        "#3 Write code to print all the pre-defined keywords in Python using the keyword library\n",
        "import keyword\n",
        "print(\"All Python prede-fined Keywords are:\")\n",
        "print(keyword.kwlist)"
      ],
      "metadata": {
        "colab": {
          "base_uri": "https://localhost:8080/"
        },
        "id": "d8kazDh3YRP-",
        "outputId": "3fea8f2a-431d-477a-e506-17ee26208d40"
      },
      "execution_count": null,
      "outputs": [
        {
          "output_type": "stream",
          "name": "stdout",
          "text": [
            "All Python prede-fined Keywords are:\n",
            "['False', 'None', 'True', 'and', 'as', 'assert', 'async', 'await', 'break', 'class', 'continue', 'def', 'del', 'elif', 'else', 'except', 'finally', 'for', 'from', 'global', 'if', 'import', 'in', 'is', 'lambda', 'nonlocal', 'not', 'or', 'pass', 'raise', 'return', 'try', 'while', 'with', 'yield']\n"
          ]
        }
      ]
    },
    {
      "cell_type": "code",
      "source": [
        "#4 Write a program that checks if a given word is a Python keyword.\n",
        "import keyword\n",
        "word = input(\"Enter a word to check: \")\n",
        "# Check if it's a Python keyword\n",
        "if keyword.iskeyword(word):\n",
        "    print(f\" Yes '{word}' is a Python keyword.\")\n",
        "else:\n",
        "    print(f\" NO '{word}' is NOT a Python keyword.\")"
      ],
      "metadata": {
        "colab": {
          "base_uri": "https://localhost:8080/"
        },
        "id": "tqrUqrf6faLt",
        "outputId": "8d65b07d-bb95-4dd2-bffd-144d83c5bd44"
      },
      "execution_count": null,
      "outputs": [
        {
          "output_type": "stream",
          "name": "stdout",
          "text": [
            "Enter a word to check: pankaj\n",
            " NO 'pankaj' is NOT a Python keyword.\n"
          ]
        }
      ]
    },
    {
      "cell_type": "code",
      "source": [
        "#5 Create a list and tuple in Python, and demonstrate how attempting to change an element works differently for each\n",
        "list = ['pankaj', 19, 7]\n",
        "tuple = ('mohan', 20, 1)\n",
        "list[1] = 'rohan' # updating the list value\n",
        "print('new list is ', list)\n",
        "\n",
        "# in tuple we cannt change any value it will give error\n"
      ],
      "metadata": {
        "colab": {
          "base_uri": "https://localhost:8080/"
        },
        "id": "2V1cnFzJkXpB",
        "outputId": "bd46e173-c103-4c44-d95c-53aa8543b9af"
      },
      "execution_count": null,
      "outputs": [
        {
          "output_type": "stream",
          "name": "stdout",
          "text": [
            "new list is  ['pankaj', 'rohan', 7]\n"
          ]
        }
      ]
    },
    {
      "cell_type": "code",
      "source": [
        "#6 Write a function to demonstrate the behavior of mutable and immutable arguments.\n"
      ],
      "metadata": {
        "id": "_kh9atoGkXlc"
      },
      "execution_count": null,
      "outputs": []
    },
    {
      "cell_type": "code",
      "source": [
        "#7 Write a program that performs basic arithmetic operations on two user-input numbers\n",
        "num1 = int(input(\"Enter first number: \"))\n",
        "num2 = int(input(\"Enter second number: \"))\n",
        "\n",
        "# Addition\n",
        "print(\"Addition:\", num1 + num2)\n",
        "\n",
        "# Subtraction\n",
        "print(\"Subtraction:\", num1 - num2)\n",
        "\n",
        "# Multiplication\n",
        "print(\"Multiplication:\", num1 * num2)\n",
        "\n",
        "# Division\n",
        "if num2 != 0:\n",
        "    print(\"Division:\", num1 / num2)\n",
        "else:\n",
        "    print(\"Division by zero is not allowed\")\n"
      ],
      "metadata": {
        "colab": {
          "base_uri": "https://localhost:8080/"
        },
        "id": "jeQW_7JlkXjf",
        "outputId": "1821ab02-159f-4c76-d1c8-1aeba233e491"
      },
      "execution_count": null,
      "outputs": [
        {
          "output_type": "stream",
          "name": "stdout",
          "text": [
            "Enter first number: 5\n",
            "Enter second number: 52\n",
            "Addition: 57\n",
            "Subtraction: -47\n",
            "Multiplication: 260\n",
            "Division: 0.09615384615384616\n"
          ]
        }
      ]
    },
    {
      "cell_type": "code",
      "source": [
        "#8 Write a program to demonstrate the use of logical operators.\n",
        "\n",
        "a = bool(int(input(\"Enter 0 for False or 1 for True (a): \")))\n",
        "b = bool(int(input(\"Enter 0 for False or 1 for True (b): \")))\n",
        "\n",
        "# Logical AND\n",
        "print(\"a AND b:\", a and b)\n",
        "\n",
        "# Logical OR\n",
        "print(\"a OR b:\", a or b)\n",
        "\n",
        "# Logical NOT\n",
        "print(\"NOT a:\", not a)\n",
        "print(\"NOT b:\", not b)\n",
        "\n",
        "\n"
      ],
      "metadata": {
        "colab": {
          "base_uri": "https://localhost:8080/"
        },
        "id": "hi_ibpvVkXhY",
        "outputId": "76596553-3409-4046-8e00-64bdab9dd9db"
      },
      "execution_count": null,
      "outputs": [
        {
          "output_type": "stream",
          "name": "stdout",
          "text": [
            "Enter 0 for False or 1 for True (a): 0\n",
            "Enter 0 for False or 1 for True (b): 1\n",
            "a AND b: False\n",
            "a OR b: True\n",
            "NOT a: True\n",
            "NOT b: False\n"
          ]
        }
      ]
    },
    {
      "cell_type": "code",
      "source": [
        "#9 Write a Python program to convert user input from string to integer, float, and boolean types\n",
        "\n",
        "user_input = input(\"Enter a value: \")\n",
        "\n",
        "# Convert to integer\n",
        "int_value = int(user_input)\n",
        "print(\"Integer value:\", int_value)\n",
        "\n",
        "# Convert to float\n",
        "float_value = float(user_input)  # assumes valid number input\n",
        "print(\"Float value:\", float_value)\n",
        "\n",
        "# Convert to boolean\n",
        "bool_value = bool(user_input)    # empty string -> False, non-empty -> True\n",
        "print(\"Boolean value:\", bool_value)\n"
      ],
      "metadata": {
        "colab": {
          "base_uri": "https://localhost:8080/"
        },
        "id": "whSWK3-kkXZD",
        "outputId": "afb55952-318d-4a6b-aa6d-e65aa49f2c6d"
      },
      "execution_count": null,
      "outputs": [
        {
          "output_type": "stream",
          "name": "stdout",
          "text": [
            "Enter a value: -04\n",
            "Integer value: -4\n",
            "Float value: -4.0\n",
            "Boolean value: True\n"
          ]
        }
      ]
    },
    {
      "cell_type": "code",
      "source": [
        "#10 Write code to demonstrate type casting with list elements.\n",
        "st_list = ['1', '2', '3', '4', '5']\n",
        "int_list = [int(x) for x in st_list]\n",
        "float_list = [float(x) for x in int_list]\n",
        "print('string list: ', st_list)\n",
        "print('int list : ', int_list)\n",
        "print('float list: ', float_list)"
      ],
      "metadata": {
        "colab": {
          "base_uri": "https://localhost:8080/"
        },
        "id": "kn4XcTPOkXVg",
        "outputId": "d90d3ad4-ff4d-45c7-e31f-a0a3ea097dcd"
      },
      "execution_count": null,
      "outputs": [
        {
          "output_type": "stream",
          "name": "stdout",
          "text": [
            "string list:  ['1', '2', '3', '4', '5']\n",
            "int list :  [1, 2, 3, 4, 5]\n",
            "float list:  [1.0, 2.0, 3.0, 4.0, 5.0]\n"
          ]
        }
      ]
    },
    {
      "cell_type": "code",
      "source": [
        "#11 Write a program that checks if a number is positive, negative, or zero\n",
        "num = int(input(\"Enter a number: \"))\n",
        "\n",
        "if num > 0:\n",
        "    print(\"Number is positive\")\n",
        "elif num == 0:\n",
        "    print(\"Number is zero\")\n",
        "else:\n",
        "    print(\"Number is negative\")\n"
      ],
      "metadata": {
        "colab": {
          "base_uri": "https://localhost:8080/"
        },
        "id": "uuX7KRWhkWmJ",
        "outputId": "13d61126-c716-410c-f20e-fc81ab9e68c5"
      },
      "execution_count": null,
      "outputs": [
        {
          "output_type": "stream",
          "name": "stdout",
          "text": [
            "Enter a number: 0\n",
            "Number is zero\n"
          ]
        }
      ]
    },
    {
      "cell_type": "code",
      "source": [
        "#12  Write a for loop to print numbers from 1 to 10.\n",
        "for i in range(1, 11):\n",
        "  print(i)\n"
      ],
      "metadata": {
        "colab": {
          "base_uri": "https://localhost:8080/"
        },
        "id": "iDCqRIGrkWfl",
        "outputId": "801a0bd4-91f3-43f8-c195-74b9e2d0faf2"
      },
      "execution_count": null,
      "outputs": [
        {
          "output_type": "stream",
          "name": "stdout",
          "text": [
            "1\n",
            "2\n",
            "3\n",
            "4\n",
            "5\n",
            "6\n",
            "7\n",
            "8\n",
            "9\n",
            "10\n"
          ]
        }
      ]
    },
    {
      "cell_type": "code",
      "source": [
        "#13 Write a Python program to find the sum of all even numbers between 1 and 50.\n",
        "\n",
        "total = 0\n",
        "num = 2   # first even number\n",
        "\n",
        "while num <= 50:\n",
        "    total += num\n",
        "    num += 2   # move to next even number\n",
        "\n",
        "print(\"Sum of even numbers between 1 and 50 is:\", total)\n"
      ],
      "metadata": {
        "colab": {
          "base_uri": "https://localhost:8080/"
        },
        "id": "NFzFrxmMnBBB",
        "outputId": "530b407b-24a7-4511-8041-3833bb717c00"
      },
      "execution_count": null,
      "outputs": [
        {
          "output_type": "stream",
          "name": "stdout",
          "text": [
            "Sum of even numbers between 1 and 50 is: 650\n"
          ]
        }
      ]
    },
    {
      "cell_type": "code",
      "source": [
        "#14# Reverse a string using while loop\n",
        "\n",
        "text = \"Python\"\n",
        "reversed_text = \"\"\n",
        "# reverse the string\n",
        "\n",
        "i = len(text) - 1\n",
        "while i >= 0:\n",
        "    reversed_text += text[i]\n",
        "    i -= 1\n",
        "\n",
        "print(\"Original String:\", text)\n",
        "print(\"Reversed String:\", reversed_text)\n"
      ],
      "metadata": {
        "colab": {
          "base_uri": "https://localhost:8080/"
        },
        "id": "K6czj5iOTP7z",
        "outputId": "a497d94d-bdd2-4bc0-8810-b019dc0f860e"
      },
      "execution_count": null,
      "outputs": [
        {
          "output_type": "stream",
          "name": "stdout",
          "text": [
            "Original String: Python\n",
            "Reversed String: nohtyP\n"
          ]
        }
      ]
    },
    {
      "cell_type": "code",
      "source": [
        "|#15 Write a Python program to calculate the factorial of a number provided by the user using a while loop.\n",
        "num = int(input(\"Enter a non-negative integer: \"))\n",
        "\n",
        "factorial = 1\n",
        "i = 1\n",
        "\n",
        "if num < 0:\n",
        "    print(\"Wrong Factorial is not defined for negative numbers.\")\n",
        "else:\n",
        "    while i <= num:\n",
        "        factorial *= i\n",
        "        i += 1\n",
        "    print(f\"Right The factorial of {num} is {factorial}.\")"
      ],
      "metadata": {
        "colab": {
          "base_uri": "https://localhost:8080/"
        },
        "id": "QhXjO0VKnHSZ",
        "outputId": "39c7b5a8-5a6a-41d0-bf49-82f0f47c42f1"
      },
      "execution_count": null,
      "outputs": [
        {
          "output_type": "stream",
          "name": "stdout",
          "text": [
            "Enter a non-negative integer: 3\n",
            "Right The factorial of 3 is 6.\n"
          ]
        }
      ]
    },
    {
      "cell_type": "code",
      "source": [],
      "metadata": {
        "id": "tV33WCvMouST"
      },
      "execution_count": null,
      "outputs": []
    }
  ]
}